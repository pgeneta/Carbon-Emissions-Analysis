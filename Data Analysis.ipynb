{
 "cells": [
  {
   "cell_type": "code",
   "execution_count": 1,
   "metadata": {},
   "outputs": [],
   "source": [
    "import pandas as pd\n",
    "import numpy as np\n",
    "import matplotlib.pyplot as plt\n",
    "import seaborn as sns"
   ]
  },
  {
   "cell_type": "code",
   "execution_count": 2,
   "metadata": {},
   "outputs": [],
   "source": [
    "#Import dataset\n",
    "dataset = pd.read_csv(\"~/Documents/Python/carbon-emissions-EDA/emissions.csv\")\n",
    "df = dataset.copy()"
   ]
  },
  {
   "cell_type": "code",
   "execution_count": 3,
   "metadata": {},
   "outputs": [
    {
     "data": {
      "text/html": [
       "<div>\n",
       "<style scoped>\n",
       "    .dataframe tbody tr th:only-of-type {\n",
       "        vertical-align: middle;\n",
       "    }\n",
       "\n",
       "    .dataframe tbody tr th {\n",
       "        vertical-align: top;\n",
       "    }\n",
       "\n",
       "    .dataframe thead th {\n",
       "        text-align: right;\n",
       "    }\n",
       "</style>\n",
       "<table border=\"1\" class=\"dataframe\">\n",
       "  <thead>\n",
       "    <tr style=\"text-align: right;\">\n",
       "      <th></th>\n",
       "      <th>year</th>\n",
       "      <th>parent_entity</th>\n",
       "      <th>parent_type</th>\n",
       "      <th>commodity</th>\n",
       "      <th>production_value</th>\n",
       "      <th>production_unit</th>\n",
       "      <th>total_emissions_MtCO2e</th>\n",
       "    </tr>\n",
       "  </thead>\n",
       "  <tbody>\n",
       "    <tr>\n",
       "      <th>0</th>\n",
       "      <td>1962</td>\n",
       "      <td>Abu Dhabi National Oil Company</td>\n",
       "      <td>State-owned Entity</td>\n",
       "      <td>Oil &amp; NGL</td>\n",
       "      <td>0.91250</td>\n",
       "      <td>Million bbl/yr</td>\n",
       "      <td>0.363885</td>\n",
       "    </tr>\n",
       "    <tr>\n",
       "      <th>1</th>\n",
       "      <td>1962</td>\n",
       "      <td>Abu Dhabi National Oil Company</td>\n",
       "      <td>State-owned Entity</td>\n",
       "      <td>Natural Gas</td>\n",
       "      <td>1.84325</td>\n",
       "      <td>Bcf/yr</td>\n",
       "      <td>0.134355</td>\n",
       "    </tr>\n",
       "    <tr>\n",
       "      <th>2</th>\n",
       "      <td>1963</td>\n",
       "      <td>Abu Dhabi National Oil Company</td>\n",
       "      <td>State-owned Entity</td>\n",
       "      <td>Oil &amp; NGL</td>\n",
       "      <td>1.82500</td>\n",
       "      <td>Million bbl/yr</td>\n",
       "      <td>0.727770</td>\n",
       "    </tr>\n",
       "    <tr>\n",
       "      <th>3</th>\n",
       "      <td>1963</td>\n",
       "      <td>Abu Dhabi National Oil Company</td>\n",
       "      <td>State-owned Entity</td>\n",
       "      <td>Natural Gas</td>\n",
       "      <td>4.42380</td>\n",
       "      <td>Bcf/yr</td>\n",
       "      <td>0.322453</td>\n",
       "    </tr>\n",
       "    <tr>\n",
       "      <th>4</th>\n",
       "      <td>1964</td>\n",
       "      <td>Abu Dhabi National Oil Company</td>\n",
       "      <td>State-owned Entity</td>\n",
       "      <td>Oil &amp; NGL</td>\n",
       "      <td>7.30000</td>\n",
       "      <td>Million bbl/yr</td>\n",
       "      <td>2.911079</td>\n",
       "    </tr>\n",
       "  </tbody>\n",
       "</table>\n",
       "</div>"
      ],
      "text/plain": [
       "   year                   parent_entity         parent_type    commodity  \\\n",
       "0  1962  Abu Dhabi National Oil Company  State-owned Entity    Oil & NGL   \n",
       "1  1962  Abu Dhabi National Oil Company  State-owned Entity  Natural Gas   \n",
       "2  1963  Abu Dhabi National Oil Company  State-owned Entity    Oil & NGL   \n",
       "3  1963  Abu Dhabi National Oil Company  State-owned Entity  Natural Gas   \n",
       "4  1964  Abu Dhabi National Oil Company  State-owned Entity    Oil & NGL   \n",
       "\n",
       "   production_value production_unit  total_emissions_MtCO2e  \n",
       "0           0.91250  Million bbl/yr                0.363885  \n",
       "1           1.84325          Bcf/yr                0.134355  \n",
       "2           1.82500  Million bbl/yr                0.727770  \n",
       "3           4.42380          Bcf/yr                0.322453  \n",
       "4           7.30000  Million bbl/yr                2.911079  "
      ]
     },
     "execution_count": 3,
     "metadata": {},
     "output_type": "execute_result"
    }
   ],
   "source": [
    "df.head()"
   ]
  },
  {
   "cell_type": "code",
   "execution_count": 4,
   "metadata": {},
   "outputs": [
    {
     "data": {
      "text/html": [
       "<div>\n",
       "<style scoped>\n",
       "    .dataframe tbody tr th:only-of-type {\n",
       "        vertical-align: middle;\n",
       "    }\n",
       "\n",
       "    .dataframe tbody tr th {\n",
       "        vertical-align: top;\n",
       "    }\n",
       "\n",
       "    .dataframe thead th {\n",
       "        text-align: right;\n",
       "    }\n",
       "</style>\n",
       "<table border=\"1\" class=\"dataframe\">\n",
       "  <thead>\n",
       "    <tr style=\"text-align: right;\">\n",
       "      <th></th>\n",
       "      <th>year</th>\n",
       "      <th>production_value</th>\n",
       "      <th>total_emissions_MtCO2e</th>\n",
       "    </tr>\n",
       "  </thead>\n",
       "  <tbody>\n",
       "    <tr>\n",
       "      <th>count</th>\n",
       "      <td>12551.000000</td>\n",
       "      <td>12551.000000</td>\n",
       "      <td>12551.000000</td>\n",
       "    </tr>\n",
       "    <tr>\n",
       "      <th>mean</th>\n",
       "      <td>1987.148116</td>\n",
       "      <td>412.712258</td>\n",
       "      <td>113.219734</td>\n",
       "    </tr>\n",
       "    <tr>\n",
       "      <th>std</th>\n",
       "      <td>29.202455</td>\n",
       "      <td>1357.569683</td>\n",
       "      <td>329.812666</td>\n",
       "    </tr>\n",
       "    <tr>\n",
       "      <th>min</th>\n",
       "      <td>1854.000000</td>\n",
       "      <td>0.004398</td>\n",
       "      <td>0.000321</td>\n",
       "    </tr>\n",
       "    <tr>\n",
       "      <th>25%</th>\n",
       "      <td>1973.000000</td>\n",
       "      <td>10.601353</td>\n",
       "      <td>8.785294</td>\n",
       "    </tr>\n",
       "    <tr>\n",
       "      <th>50%</th>\n",
       "      <td>1994.000000</td>\n",
       "      <td>63.203536</td>\n",
       "      <td>33.058688</td>\n",
       "    </tr>\n",
       "    <tr>\n",
       "      <th>75%</th>\n",
       "      <td>2009.000000</td>\n",
       "      <td>320.664764</td>\n",
       "      <td>102.154596</td>\n",
       "    </tr>\n",
       "    <tr>\n",
       "      <th>max</th>\n",
       "      <td>2022.000000</td>\n",
       "      <td>27192.000000</td>\n",
       "      <td>8646.905949</td>\n",
       "    </tr>\n",
       "  </tbody>\n",
       "</table>\n",
       "</div>"
      ],
      "text/plain": [
       "               year  production_value  total_emissions_MtCO2e\n",
       "count  12551.000000      12551.000000            12551.000000\n",
       "mean    1987.148116        412.712258              113.219734\n",
       "std       29.202455       1357.569683              329.812666\n",
       "min     1854.000000          0.004398                0.000321\n",
       "25%     1973.000000         10.601353                8.785294\n",
       "50%     1994.000000         63.203536               33.058688\n",
       "75%     2009.000000        320.664764              102.154596\n",
       "max     2022.000000      27192.000000             8646.905949"
      ]
     },
     "execution_count": 4,
     "metadata": {},
     "output_type": "execute_result"
    }
   ],
   "source": [
    "df.describe()"
   ]
  },
  {
   "cell_type": "code",
   "execution_count": 5,
   "metadata": {},
   "outputs": [
    {
     "name": "stdout",
     "output_type": "stream",
     "text": [
      "<class 'pandas.core.frame.DataFrame'>\n",
      "RangeIndex: 12551 entries, 0 to 12550\n",
      "Data columns (total 7 columns):\n",
      " #   Column                  Non-Null Count  Dtype  \n",
      "---  ------                  --------------  -----  \n",
      " 0   year                    12551 non-null  int64  \n",
      " 1   parent_entity           12551 non-null  object \n",
      " 2   parent_type             12551 non-null  object \n",
      " 3   commodity               12551 non-null  object \n",
      " 4   production_value        12551 non-null  float64\n",
      " 5   production_unit         12551 non-null  object \n",
      " 6   total_emissions_MtCO2e  12551 non-null  float64\n",
      "dtypes: float64(2), int64(1), object(4)\n",
      "memory usage: 686.5+ KB\n"
     ]
    }
   ],
   "source": [
    "df.info()"
   ]
  },
  {
   "cell_type": "code",
   "execution_count": 6,
   "metadata": {},
   "outputs": [
    {
     "data": {
      "text/plain": [
       "Index(['year', 'parent_entity', 'parent_type', 'commodity', 'production_value',\n",
       "       'production_unit', 'total_emissions_MtCO2e'],\n",
       "      dtype='object')"
      ]
     },
     "execution_count": 6,
     "metadata": {},
     "output_type": "execute_result"
    }
   ],
   "source": [
    "df.columns"
   ]
  },
  {
   "cell_type": "markdown",
   "metadata": {},
   "source": [
    "## Cleaning the data"
   ]
  },
  {
   "cell_type": "code",
   "execution_count": 7,
   "metadata": {},
   "outputs": [
    {
     "data": {
      "text/plain": [
       "year                      0\n",
       "parent_entity             0\n",
       "parent_type               0\n",
       "commodity                 0\n",
       "production_value          0\n",
       "production_unit           0\n",
       "total_emissions_MtCO2e    0\n",
       "dtype: int64"
      ]
     },
     "execution_count": 7,
     "metadata": {},
     "output_type": "execute_result"
    }
   ],
   "source": [
    "missing_values = df.isna().sum()\n",
    "missing_values"
   ]
  },
  {
   "cell_type": "code",
   "execution_count": 8,
   "metadata": {},
   "outputs": [
    {
     "data": {
      "text/plain": [
       "np.int64(0)"
      ]
     },
     "execution_count": 8,
     "metadata": {},
     "output_type": "execute_result"
    }
   ],
   "source": [
    "duplicated_values = df.duplicated().sum()\n",
    "duplicated_values"
   ]
  }
 ],
 "metadata": {
  "kernelspec": {
   "display_name": ".venv",
   "language": "python",
   "name": "python3"
  },
  "language_info": {
   "codemirror_mode": {
    "name": "ipython",
    "version": 3
   },
   "file_extension": ".py",
   "mimetype": "text/x-python",
   "name": "python",
   "nbconvert_exporter": "python",
   "pygments_lexer": "ipython3",
   "version": "3.12.4"
  }
 },
 "nbformat": 4,
 "nbformat_minor": 2
}
